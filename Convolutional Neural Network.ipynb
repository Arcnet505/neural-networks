{
 "cells": [
  {
   "cell_type": "code",
   "execution_count": 18,
   "metadata": {},
   "outputs": [],
   "source": [
    "import tensorflow as tf\n",
    "from tensorflow.keras.models import Sequential\n",
    "from tensorflow.keras.layers import Dense, Dropout, Activation, Flatten, Conv2D, MaxPooling2D\n",
    "import numpy as np\n",
    "import matplotlib.pyplot as plt\n",
    "import os"
   ]
  },
  {
   "cell_type": "code",
   "execution_count": 26,
   "metadata": {},
   "outputs": [
    {
     "name": "stdout",
     "output_type": "stream",
     "text": [
      "(1027, 100, 100, 1) (256, 100, 100, 1)\n"
     ]
    }
   ],
   "source": [
    "DATADIR = \"E:/Projects/Programming/AI/Tensorflow/datasets\"\n",
    "DATASET = \"horseorhuman\"\n",
    "\n",
    "train_x = np.load(os.path.join(DATADIR, DATASET, \"train\", \"horseorhuman_train_x.npy\"))\n",
    "train_y = np.load(os.path.join(DATADIR, DATASET, \"train\", \"horseorhuman_train_y.npy\"))\n",
    "test_x = np.load(os.path.join(DATADIR, DATASET, \"test\", \"horseorhuman_test_x.npy\"))\n",
    "test_y = np.load(os.path.join(DATADIR, DATASET, \"test\", \"horseorhuman_test_y.npy\"))\n",
    "\n",
    "train_x = train_x/255\n",
    "test_x = test_x/255\n",
    "\n",
    "print(train_x.shape, test_x.shape)\n",
    "# train_x = train_x.reshape(train_x.shape[0], 100, 100, 1)\n",
    "# test_x = test_x.reshape(test_x.shape[0], 100, 100, 1)\n",
    "# print(train_x.shape, test_x.shape)"
   ]
  },
  {
   "cell_type": "code",
   "execution_count": 36,
   "metadata": {},
   "outputs": [
    {
     "name": "stdout",
     "output_type": "stream",
     "text": [
      "Epoch 1/10\n",
      "29/29 [==============================] - 0s 17ms/step - loss: 264.3193 - accuracy: 0.6840 - val_loss: 0.7013 - val_accuracy: 0.7961\n",
      "Epoch 2/10\n",
      "29/29 [==============================] - 0s 14ms/step - loss: 0.2925 - accuracy: 0.9026 - val_loss: 0.4725 - val_accuracy: 0.8835\n",
      "Epoch 3/10\n",
      "29/29 [==============================] - 0s 14ms/step - loss: 0.1720 - accuracy: 0.9329 - val_loss: 0.4012 - val_accuracy: 0.8932\n",
      "Epoch 4/10\n",
      "29/29 [==============================] - 0s 14ms/step - loss: 0.0838 - accuracy: 0.9751 - val_loss: 0.3836 - val_accuracy: 0.9223\n",
      "Epoch 5/10\n",
      "29/29 [==============================] - 0s 14ms/step - loss: 0.0443 - accuracy: 0.9838 - val_loss: 0.1970 - val_accuracy: 0.9515\n",
      "Epoch 6/10\n",
      "29/29 [==============================] - 0s 14ms/step - loss: 0.0772 - accuracy: 0.9751 - val_loss: 0.1915 - val_accuracy: 0.9612\n",
      "Epoch 7/10\n",
      "29/29 [==============================] - 0s 14ms/step - loss: 0.0273 - accuracy: 0.9903 - val_loss: 0.6047 - val_accuracy: 0.9320\n",
      "Epoch 8/10\n",
      "29/29 [==============================] - 0s 14ms/step - loss: 0.0067 - accuracy: 0.9978 - val_loss: 0.2319 - val_accuracy: 0.9806\n",
      "Epoch 9/10\n",
      "29/29 [==============================] - 0s 14ms/step - loss: 0.0344 - accuracy: 0.9881 - val_loss: 0.1042 - val_accuracy: 0.9709\n",
      "Epoch 10/10\n",
      "29/29 [==============================] - 0s 14ms/step - loss: 0.0166 - accuracy: 0.9957 - val_loss: 0.6444 - val_accuracy: 0.9223\n"
     ]
    },
    {
     "data": {
      "text/plain": [
       "<tensorflow.python.keras.callbacks.History at 0x221197a7588>"
      ]
     },
     "execution_count": 36,
     "metadata": {},
     "output_type": "execute_result"
    }
   ],
   "source": [
    "model = Sequential()\n",
    "model.add(Conv2D(64, (3,3), input_shape = x.shape[1:]))\n",
    "model.add(Activation(\"relu\"))\n",
    "model.add(MaxPooling2D(pool_size=(2,2)))\n",
    "\n",
    "model.add(Conv2D(128, (3,3)))\n",
    "model.add(Activation(\"relu\"))\n",
    "model.add(MaxPooling2D(pool_size=(2,2)))\n",
    "\n",
    "model.add(Flatten())\n",
    "model.add(Dense(256))\n",
    "\n",
    "model.add(Dense(1))\n",
    "model.add(Activation(\"sigmoid\"))\n",
    "\n",
    "model.compile(loss=\"binary_crossentropy\",\n",
    "             optimizer=\"adam\",\n",
    "             metrics=[\"accuracy\"])\n",
    "\n",
    "model.fit(x, y, batch_size=32, epochs=10, validation_split=0.1)"
   ]
  },
  {
   "cell_type": "code",
   "execution_count": 39,
   "metadata": {},
   "outputs": [
    {
     "name": "stdout",
     "output_type": "stream",
     "text": [
      "Evaluate on test data\n",
      "8/8 [==============================] - 0s 5ms/step - loss: 0.6114 - accuracy: 0.6211\n"
     ]
    }
   ],
   "source": [
    "print('Evaluate on test data')\n",
    "results = model.evaluate(test_x, test_y, batch_size=32)"
   ]
  },
  {
   "cell_type": "code",
   "execution_count": null,
   "metadata": {},
   "outputs": [],
   "source": []
  }
 ],
 "metadata": {
  "kernelspec": {
   "display_name": "Python 3",
   "language": "python",
   "name": "python3"
  },
  "language_info": {
   "codemirror_mode": {
    "name": "ipython",
    "version": 3
   },
   "file_extension": ".py",
   "mimetype": "text/x-python",
   "name": "python",
   "nbconvert_exporter": "python",
   "pygments_lexer": "ipython3",
   "version": "3.7.6"
  }
 },
 "nbformat": 4,
 "nbformat_minor": 4
}
